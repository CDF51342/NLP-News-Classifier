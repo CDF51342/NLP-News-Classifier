{
  "nbformat": 4,
  "nbformat_minor": 0,
  "metadata": {
    "colab": {
      "provenance": [],
      "gpuType": "T4"
    },
    "kernelspec": {
      "name": "python3",
      "display_name": "Python 3"
    },
    "language_info": {
      "name": "python"
    },
    "accelerator": "GPU"
  },
  "cells": [
    {
      "cell_type": "markdown",
      "source": [
        "# Importaciones"
      ],
      "metadata": {
        "id": "yrhfmTkd0jWY"
      }
    },
    {
      "cell_type": "code",
      "source": [
        "import numpy as np\n",
        "import pandas as pd\n",
        "import gensim.corpora as corpora\n",
        "import torch, os, zipfile, chardet, spacy, gensim\n",
        "\n",
        "from datasets import load_metric\n",
        "from torch.utils.data import Dataset\n",
        "from sklearn.model_selection import train_test_split\n",
        "from transformers import BertTokenizer, BertForSequenceClassification, Trainer, TrainingArguments\n",
        "\n",
        "device = torch.device(\"cuda\" if torch.cuda.is_available() else \"cpu\")\n",
        "print(f\"Usando: {device}\")"
      ],
      "metadata": {
        "colab": {
          "base_uri": "https://localhost:8080/"
        },
        "id": "YZXMvERJ0k8t",
        "outputId": "4ba341fe-95eb-4e71-b90d-f41bcd58137d"
      },
      "execution_count": 1,
      "outputs": [
        {
          "output_type": "stream",
          "name": "stdout",
          "text": [
            "Usando: cuda\n"
          ]
        }
      ]
    },
    {
      "cell_type": "markdown",
      "source": [
        "# Dataset cargado limpiado"
      ],
      "metadata": {
        "id": "FrtK-BRC0nt3"
      }
    },
    {
      "cell_type": "code",
      "source": [
        "# Descomprimir el archivo zip\n",
        "def unzip_data(zip_path, extract_to):\n",
        "    with zipfile.ZipFile(zip_path, 'r') as zip_ref:\n",
        "        zip_ref.extractall(extract_to)\n",
        "\n",
        "unzip_data(\"bbc-train.zip\", \"bbc-train\")\n",
        "unzip_data(\"bbc-test.zip\", \"bbc-test\")"
      ],
      "metadata": {
        "id": "P8_nDbeX3Mty"
      },
      "execution_count": 2,
      "outputs": []
    },
    {
      "cell_type": "code",
      "execution_count": 3,
      "metadata": {
        "id": "CHQuhZJ20M9z"
      },
      "outputs": [],
      "source": [
        "# Cargar datos desde carpetas\n",
        "def load_data(data_path):\n",
        "    categories = [\"business\", \"entertainment\", \"politics\", \"sports\", \"tech\"]\n",
        "    data = []\n",
        "\n",
        "    def detect_encoding(file_path):\n",
        "        with open(file_path, 'rb') as f:\n",
        "            result = chardet.detect(f.read())\n",
        "        return result['encoding']\n",
        "\n",
        "    for category in categories:\n",
        "        folder_path = os.path.join(data_path, category)\n",
        "        for filename in os.listdir(folder_path):\n",
        "            file_path = os.path.join(folder_path, filename)\n",
        "            encoding = detect_encoding(file_path)\n",
        "            with open(file_path, \"r\", encoding=encoding, errors=\"replace\") as f:\n",
        "                text = f.read()\n",
        "                data.append((text, category))\n",
        "\n",
        "    return pd.DataFrame(data, columns=[\"text\", \"category\"])\n",
        "\n",
        "# Cargar conjuntos de entrenamiento y test\n",
        "df_train = load_data(\"bbc-train/bbc-train\")\n",
        "df_test = load_data(\"bbc-test/bbc-test\")"
      ]
    },
    {
      "cell_type": "code",
      "source": [
        "# Preprocesamiento con spaCy\n",
        "nlp = spacy.load(\"en_core_web_sm\")\n",
        "\n",
        "def preprocess_text(text):\n",
        "    doc = nlp(text.lower())\n",
        "    return [token.lemma_ for token in doc if token.is_alpha and not token.is_stop]\n",
        "\n",
        "df_train[\"tokens\"] = df_train[\"text\"].apply(preprocess_text)\n",
        "df_test[\"tokens\"] = df_test[\"text\"].apply(preprocess_text)"
      ],
      "metadata": {
        "id": "8RBnZ8tQ72N3"
      },
      "execution_count": 4,
      "outputs": []
    },
    {
      "cell_type": "code",
      "source": [
        "df_train.head()"
      ],
      "metadata": {
        "colab": {
          "base_uri": "https://localhost:8080/",
          "height": 206
        },
        "id": "7M7dOrhu4DSm",
        "outputId": "08d07be0-7192-409f-9839-c36b99384b8e"
      },
      "execution_count": 5,
      "outputs": [
        {
          "output_type": "execute_result",
          "data": {
            "text/plain": [
              "                                                text  category  \\\n",
              "0  Malaysia lifts Islamic bank limit\\n\\nMalaysia'...  business   \n",
              "1  Egypt and Israel seal trade deal\\n\\nIn a sign ...  business   \n",
              "2  Gaming firm to sell UK dog tracks\\n\\nSix UK gr...  business   \n",
              "3  Chinese exports rise 25% in 2004\\n\\nExports fr...  business   \n",
              "4  India's Reliance family feud heats up\\n\\nThe o...  business   \n",
              "\n",
              "                                              tokens  \n",
              "0  [malaysia, lifts, islamic, bank, limit, malays...  \n",
              "1  [egypt, israel, seal, trade, deal, sign, thaw,...  \n",
              "2  [gaming, firm, sell, uk, dog, track, uk, greyh...  \n",
              "3  [chinese, export, rise, export, china, leapt, ...  \n",
              "4  [india, reliance, family, feud, heat, ongoing,...  "
            ],
            "text/html": [
              "\n",
              "  <div id=\"df-6e1efe6e-4e43-4951-b86a-00441763a60f\" class=\"colab-df-container\">\n",
              "    <div>\n",
              "<style scoped>\n",
              "    .dataframe tbody tr th:only-of-type {\n",
              "        vertical-align: middle;\n",
              "    }\n",
              "\n",
              "    .dataframe tbody tr th {\n",
              "        vertical-align: top;\n",
              "    }\n",
              "\n",
              "    .dataframe thead th {\n",
              "        text-align: right;\n",
              "    }\n",
              "</style>\n",
              "<table border=\"1\" class=\"dataframe\">\n",
              "  <thead>\n",
              "    <tr style=\"text-align: right;\">\n",
              "      <th></th>\n",
              "      <th>text</th>\n",
              "      <th>category</th>\n",
              "      <th>tokens</th>\n",
              "    </tr>\n",
              "  </thead>\n",
              "  <tbody>\n",
              "    <tr>\n",
              "      <th>0</th>\n",
              "      <td>Malaysia lifts Islamic bank limit\\n\\nMalaysia'...</td>\n",
              "      <td>business</td>\n",
              "      <td>[malaysia, lifts, islamic, bank, limit, malays...</td>\n",
              "    </tr>\n",
              "    <tr>\n",
              "      <th>1</th>\n",
              "      <td>Egypt and Israel seal trade deal\\n\\nIn a sign ...</td>\n",
              "      <td>business</td>\n",
              "      <td>[egypt, israel, seal, trade, deal, sign, thaw,...</td>\n",
              "    </tr>\n",
              "    <tr>\n",
              "      <th>2</th>\n",
              "      <td>Gaming firm to sell UK dog tracks\\n\\nSix UK gr...</td>\n",
              "      <td>business</td>\n",
              "      <td>[gaming, firm, sell, uk, dog, track, uk, greyh...</td>\n",
              "    </tr>\n",
              "    <tr>\n",
              "      <th>3</th>\n",
              "      <td>Chinese exports rise 25% in 2004\\n\\nExports fr...</td>\n",
              "      <td>business</td>\n",
              "      <td>[chinese, export, rise, export, china, leapt, ...</td>\n",
              "    </tr>\n",
              "    <tr>\n",
              "      <th>4</th>\n",
              "      <td>India's Reliance family feud heats up\\n\\nThe o...</td>\n",
              "      <td>business</td>\n",
              "      <td>[india, reliance, family, feud, heat, ongoing,...</td>\n",
              "    </tr>\n",
              "  </tbody>\n",
              "</table>\n",
              "</div>\n",
              "    <div class=\"colab-df-buttons\">\n",
              "\n",
              "  <div class=\"colab-df-container\">\n",
              "    <button class=\"colab-df-convert\" onclick=\"convertToInteractive('df-6e1efe6e-4e43-4951-b86a-00441763a60f')\"\n",
              "            title=\"Convert this dataframe to an interactive table.\"\n",
              "            style=\"display:none;\">\n",
              "\n",
              "  <svg xmlns=\"http://www.w3.org/2000/svg\" height=\"24px\" viewBox=\"0 -960 960 960\">\n",
              "    <path d=\"M120-120v-720h720v720H120Zm60-500h600v-160H180v160Zm220 220h160v-160H400v160Zm0 220h160v-160H400v160ZM180-400h160v-160H180v160Zm440 0h160v-160H620v160ZM180-180h160v-160H180v160Zm440 0h160v-160H620v160Z\"/>\n",
              "  </svg>\n",
              "    </button>\n",
              "\n",
              "  <style>\n",
              "    .colab-df-container {\n",
              "      display:flex;\n",
              "      gap: 12px;\n",
              "    }\n",
              "\n",
              "    .colab-df-convert {\n",
              "      background-color: #E8F0FE;\n",
              "      border: none;\n",
              "      border-radius: 50%;\n",
              "      cursor: pointer;\n",
              "      display: none;\n",
              "      fill: #1967D2;\n",
              "      height: 32px;\n",
              "      padding: 0 0 0 0;\n",
              "      width: 32px;\n",
              "    }\n",
              "\n",
              "    .colab-df-convert:hover {\n",
              "      background-color: #E2EBFA;\n",
              "      box-shadow: 0px 1px 2px rgba(60, 64, 67, 0.3), 0px 1px 3px 1px rgba(60, 64, 67, 0.15);\n",
              "      fill: #174EA6;\n",
              "    }\n",
              "\n",
              "    .colab-df-buttons div {\n",
              "      margin-bottom: 4px;\n",
              "    }\n",
              "\n",
              "    [theme=dark] .colab-df-convert {\n",
              "      background-color: #3B4455;\n",
              "      fill: #D2E3FC;\n",
              "    }\n",
              "\n",
              "    [theme=dark] .colab-df-convert:hover {\n",
              "      background-color: #434B5C;\n",
              "      box-shadow: 0px 1px 3px 1px rgba(0, 0, 0, 0.15);\n",
              "      filter: drop-shadow(0px 1px 2px rgba(0, 0, 0, 0.3));\n",
              "      fill: #FFFFFF;\n",
              "    }\n",
              "  </style>\n",
              "\n",
              "    <script>\n",
              "      const buttonEl =\n",
              "        document.querySelector('#df-6e1efe6e-4e43-4951-b86a-00441763a60f button.colab-df-convert');\n",
              "      buttonEl.style.display =\n",
              "        google.colab.kernel.accessAllowed ? 'block' : 'none';\n",
              "\n",
              "      async function convertToInteractive(key) {\n",
              "        const element = document.querySelector('#df-6e1efe6e-4e43-4951-b86a-00441763a60f');\n",
              "        const dataTable =\n",
              "          await google.colab.kernel.invokeFunction('convertToInteractive',\n",
              "                                                    [key], {});\n",
              "        if (!dataTable) return;\n",
              "\n",
              "        const docLinkHtml = 'Like what you see? Visit the ' +\n",
              "          '<a target=\"_blank\" href=https://colab.research.google.com/notebooks/data_table.ipynb>data table notebook</a>'\n",
              "          + ' to learn more about interactive tables.';\n",
              "        element.innerHTML = '';\n",
              "        dataTable['output_type'] = 'display_data';\n",
              "        await google.colab.output.renderOutput(dataTable, element);\n",
              "        const docLink = document.createElement('div');\n",
              "        docLink.innerHTML = docLinkHtml;\n",
              "        element.appendChild(docLink);\n",
              "      }\n",
              "    </script>\n",
              "  </div>\n",
              "\n",
              "\n",
              "<div id=\"df-b01d6bc8-da65-49e7-b4cd-147e7af0b12d\">\n",
              "  <button class=\"colab-df-quickchart\" onclick=\"quickchart('df-b01d6bc8-da65-49e7-b4cd-147e7af0b12d')\"\n",
              "            title=\"Suggest charts\"\n",
              "            style=\"display:none;\">\n",
              "\n",
              "<svg xmlns=\"http://www.w3.org/2000/svg\" height=\"24px\"viewBox=\"0 0 24 24\"\n",
              "     width=\"24px\">\n",
              "    <g>\n",
              "        <path d=\"M19 3H5c-1.1 0-2 .9-2 2v14c0 1.1.9 2 2 2h14c1.1 0 2-.9 2-2V5c0-1.1-.9-2-2-2zM9 17H7v-7h2v7zm4 0h-2V7h2v10zm4 0h-2v-4h2v4z\"/>\n",
              "    </g>\n",
              "</svg>\n",
              "  </button>\n",
              "\n",
              "<style>\n",
              "  .colab-df-quickchart {\n",
              "      --bg-color: #E8F0FE;\n",
              "      --fill-color: #1967D2;\n",
              "      --hover-bg-color: #E2EBFA;\n",
              "      --hover-fill-color: #174EA6;\n",
              "      --disabled-fill-color: #AAA;\n",
              "      --disabled-bg-color: #DDD;\n",
              "  }\n",
              "\n",
              "  [theme=dark] .colab-df-quickchart {\n",
              "      --bg-color: #3B4455;\n",
              "      --fill-color: #D2E3FC;\n",
              "      --hover-bg-color: #434B5C;\n",
              "      --hover-fill-color: #FFFFFF;\n",
              "      --disabled-bg-color: #3B4455;\n",
              "      --disabled-fill-color: #666;\n",
              "  }\n",
              "\n",
              "  .colab-df-quickchart {\n",
              "    background-color: var(--bg-color);\n",
              "    border: none;\n",
              "    border-radius: 50%;\n",
              "    cursor: pointer;\n",
              "    display: none;\n",
              "    fill: var(--fill-color);\n",
              "    height: 32px;\n",
              "    padding: 0;\n",
              "    width: 32px;\n",
              "  }\n",
              "\n",
              "  .colab-df-quickchart:hover {\n",
              "    background-color: var(--hover-bg-color);\n",
              "    box-shadow: 0 1px 2px rgba(60, 64, 67, 0.3), 0 1px 3px 1px rgba(60, 64, 67, 0.15);\n",
              "    fill: var(--button-hover-fill-color);\n",
              "  }\n",
              "\n",
              "  .colab-df-quickchart-complete:disabled,\n",
              "  .colab-df-quickchart-complete:disabled:hover {\n",
              "    background-color: var(--disabled-bg-color);\n",
              "    fill: var(--disabled-fill-color);\n",
              "    box-shadow: none;\n",
              "  }\n",
              "\n",
              "  .colab-df-spinner {\n",
              "    border: 2px solid var(--fill-color);\n",
              "    border-color: transparent;\n",
              "    border-bottom-color: var(--fill-color);\n",
              "    animation:\n",
              "      spin 1s steps(1) infinite;\n",
              "  }\n",
              "\n",
              "  @keyframes spin {\n",
              "    0% {\n",
              "      border-color: transparent;\n",
              "      border-bottom-color: var(--fill-color);\n",
              "      border-left-color: var(--fill-color);\n",
              "    }\n",
              "    20% {\n",
              "      border-color: transparent;\n",
              "      border-left-color: var(--fill-color);\n",
              "      border-top-color: var(--fill-color);\n",
              "    }\n",
              "    30% {\n",
              "      border-color: transparent;\n",
              "      border-left-color: var(--fill-color);\n",
              "      border-top-color: var(--fill-color);\n",
              "      border-right-color: var(--fill-color);\n",
              "    }\n",
              "    40% {\n",
              "      border-color: transparent;\n",
              "      border-right-color: var(--fill-color);\n",
              "      border-top-color: var(--fill-color);\n",
              "    }\n",
              "    60% {\n",
              "      border-color: transparent;\n",
              "      border-right-color: var(--fill-color);\n",
              "    }\n",
              "    80% {\n",
              "      border-color: transparent;\n",
              "      border-right-color: var(--fill-color);\n",
              "      border-bottom-color: var(--fill-color);\n",
              "    }\n",
              "    90% {\n",
              "      border-color: transparent;\n",
              "      border-bottom-color: var(--fill-color);\n",
              "    }\n",
              "  }\n",
              "</style>\n",
              "\n",
              "  <script>\n",
              "    async function quickchart(key) {\n",
              "      const quickchartButtonEl =\n",
              "        document.querySelector('#' + key + ' button');\n",
              "      quickchartButtonEl.disabled = true;  // To prevent multiple clicks.\n",
              "      quickchartButtonEl.classList.add('colab-df-spinner');\n",
              "      try {\n",
              "        const charts = await google.colab.kernel.invokeFunction(\n",
              "            'suggestCharts', [key], {});\n",
              "      } catch (error) {\n",
              "        console.error('Error during call to suggestCharts:', error);\n",
              "      }\n",
              "      quickchartButtonEl.classList.remove('colab-df-spinner');\n",
              "      quickchartButtonEl.classList.add('colab-df-quickchart-complete');\n",
              "    }\n",
              "    (() => {\n",
              "      let quickchartButtonEl =\n",
              "        document.querySelector('#df-b01d6bc8-da65-49e7-b4cd-147e7af0b12d button');\n",
              "      quickchartButtonEl.style.display =\n",
              "        google.colab.kernel.accessAllowed ? 'block' : 'none';\n",
              "    })();\n",
              "  </script>\n",
              "</div>\n",
              "\n",
              "    </div>\n",
              "  </div>\n"
            ],
            "application/vnd.google.colaboratory.intrinsic+json": {
              "type": "dataframe",
              "variable_name": "df_train",
              "summary": "{\n  \"name\": \"df_train\",\n  \"rows\": 2015,\n  \"fields\": [\n    {\n      \"column\": \"text\",\n      \"properties\": {\n        \"dtype\": \"string\",\n        \"num_unique_values\": 1936,\n        \"samples\": [\n          \"Vibe awards back despite violence\\n\\nThe US Vibe awards will be held again next year despite a stabbing which happened during the ceremony.\\n\\nVibe magazine president Kenard Gibbs said the attack earlier this month in Santa Monica was \\\"sickening\\\". He said not holding the awards would be counter to the work the magazine has done to promote hip hop music. Rapper Young Buck has been charged after allegedly stabbing a man who hit Dr Dre as he was about to receive a lifetime achievement award.\\n\\nThe rapper, whose real name is David Darnell Brown, is due in court on 20 December after being arrested on one charge of attempted murder and a second charge of assault with a deadly weapon. The performer is one of the members of 50 Cent's G-Unit group, which is signed to Dr Dre's record label. The man who was stabbed, Jimmy James Johnson, suffered a collapsed lung and is in a stable condition at a Los Angeles hospital. Mr Johnson allegedly approached Dr Dre, who was seated at a table in front of the stage, and appeared to ask for an autograph before punching him. During the ensuing scuffle - which involved many of the 1,000-strong crowd - Mr Johnson was stabbed as he was being dragged away by security staff,\\n\",\n          \"MPs issued with Blackberry threat\\n\\nMPs will be thrown out of the Commons if they use Blackberries in the chamber Speaker Michael Martin has ruled.\\n\\nThe \\u00c2\\u00a3200 handheld computers can be used as a phone, pager or to send e-mails. The devices gained new prominence this week after Alastair Campbell used his to accidentally send an expletive-laden message to a Newsnight journalist. Mr Martin revealed some MPs had been using their Blackberries during debates and he also cautioned members against using hidden earpieces.\\n\\nThe use of electronic devices in the Commons chamber has long been frowned on. The sound of a mobile phone or a pager can result in a strong rebuke from either the Speaker or his deputies. The Speaker chairs debates in the Commons and is charged with ensuring order in the chamber and enforcing rules and conventions of the House. He or she is always an MP chosen by colleagues who, once nominated, gives up all party political allegiances.\\n\",\n          \"Watchdog probes e-mail deletions\\n\\nThe information commissioner says he is urgently asking for details of Cabinet Office orders telling staff to delete e-mails more than three months old.\\n\\nRichard Thomas \\\"totally condemned\\\" the deletion of e-mails to prevent their disclosure under freedom of information laws coming into force on 1 January. Government guidance said e-mails should only be deleted if they served \\\"no current purpose\\\", Mr Thomas said. The Tories and the Lib Dems have questioned the timing of the new rules.\\n\\nTory leader Michael Howard has written to Tony Blair demanding an explanation of the new rules on e-mail retention. On Monday Lib Dem constitutional affairs committee chairman Alan Beith warned that the deletion of millions of government e-mails could harm the ability of key probes like the Hutton Inquiry. The timing of the new rules just before the Freedom of Information Act comes into forces was \\\"too unlikely to have been a coincidence\\\", Mr Beith said. But a Cabinet Office spokeswoman said the move was not about the new laws or \\\"the destruction of important records\\\". Mr Beith urged the information commissioner to look at how the \\\"e-mail regime\\\" could \\\"support the freedom of information regime\\\".\\n\\nMr Thomas said: \\\"The new Act of Parliament makes it very clear that to destroy records in order to prevent their disclosure becomes a criminal offence.\\\" He said there was already clear guidance on the retention of e-mails contained in a code of practice from the lord chancellor. All e-mails are subject to the freedom of information laws, but the important thing was the content of the e-mail, said Mr Thomas.\\n\\n\\\"If in doubt retain, that has been the long-standing principle of the civil service and public authorities. It's only when you've got no further use for the particular record that it may be legitimate to destroy it. \\\"But any deliberate destruction to avoid the possibility of later disclosure is to be totally condemned.\\\" The Freedom of Information Act will cover England, Wales and Northern Ireland from next year. Similar measures are being brought in at the same time in Scotland. It provides the public with a right of access to information held by about 100,000 public bodies, subject to various exemptions. Its implementation will be monitored by the information commissioner.\\n\"\n        ],\n        \"semantic_type\": \"\",\n        \"description\": \"\"\n      }\n    },\n    {\n      \"column\": \"category\",\n      \"properties\": {\n        \"dtype\": \"category\",\n        \"num_unique_values\": 5,\n        \"samples\": [\n          \"entertainment\",\n          \"tech\",\n          \"politics\"\n        ],\n        \"semantic_type\": \"\",\n        \"description\": \"\"\n      }\n    },\n    {\n      \"column\": \"tokens\",\n      \"properties\": {\n        \"dtype\": \"object\",\n        \"semantic_type\": \"\",\n        \"description\": \"\"\n      }\n    }\n  ]\n}"
            }
          },
          "metadata": {},
          "execution_count": 5
        }
      ]
    },
    {
      "cell_type": "code",
      "source": [
        "df_test.head()"
      ],
      "metadata": {
        "colab": {
          "base_uri": "https://localhost:8080/",
          "height": 206
        },
        "id": "Zd1KyVvS5zeB",
        "outputId": "6e387323-24a1-42e4-8f0c-24badda6ed2f"
      },
      "execution_count": 6,
      "outputs": [
        {
          "output_type": "execute_result",
          "data": {
            "text/plain": [
              "                                                text  category  \\\n",
              "0  Hyundai to build new India plant\\n\\nSouth Kore...  business   \n",
              "1  German business confidence slides\\n\\nGerman bu...  business   \n",
              "2  Industrial output falls in Japan\\n\\nJapanese i...  business   \n",
              "3  Japanese mogul arrested for fraud\\n\\nOne of Ja...  business   \n",
              "4  Chinese wine tempts Italy's Illva\\n\\nItaly's I...  business   \n",
              "\n",
              "                                              tokens  \n",
              "0  [hyundai, build, new, india, plant, south, kor...  \n",
              "1  [german, business, confidence, slide, german, ...  \n",
              "2  [industrial, output, fall, japan, japanese, in...  \n",
              "3  [japanese, mogul, arrest, fraud, japan, well, ...  \n",
              "4  [chinese, wine, tempts, italy, illva, italy, i...  "
            ],
            "text/html": [
              "\n",
              "  <div id=\"df-0d9e00c3-7a1e-45c1-b446-f91e9c33b7f6\" class=\"colab-df-container\">\n",
              "    <div>\n",
              "<style scoped>\n",
              "    .dataframe tbody tr th:only-of-type {\n",
              "        vertical-align: middle;\n",
              "    }\n",
              "\n",
              "    .dataframe tbody tr th {\n",
              "        vertical-align: top;\n",
              "    }\n",
              "\n",
              "    .dataframe thead th {\n",
              "        text-align: right;\n",
              "    }\n",
              "</style>\n",
              "<table border=\"1\" class=\"dataframe\">\n",
              "  <thead>\n",
              "    <tr style=\"text-align: right;\">\n",
              "      <th></th>\n",
              "      <th>text</th>\n",
              "      <th>category</th>\n",
              "      <th>tokens</th>\n",
              "    </tr>\n",
              "  </thead>\n",
              "  <tbody>\n",
              "    <tr>\n",
              "      <th>0</th>\n",
              "      <td>Hyundai to build new India plant\\n\\nSouth Kore...</td>\n",
              "      <td>business</td>\n",
              "      <td>[hyundai, build, new, india, plant, south, kor...</td>\n",
              "    </tr>\n",
              "    <tr>\n",
              "      <th>1</th>\n",
              "      <td>German business confidence slides\\n\\nGerman bu...</td>\n",
              "      <td>business</td>\n",
              "      <td>[german, business, confidence, slide, german, ...</td>\n",
              "    </tr>\n",
              "    <tr>\n",
              "      <th>2</th>\n",
              "      <td>Industrial output falls in Japan\\n\\nJapanese i...</td>\n",
              "      <td>business</td>\n",
              "      <td>[industrial, output, fall, japan, japanese, in...</td>\n",
              "    </tr>\n",
              "    <tr>\n",
              "      <th>3</th>\n",
              "      <td>Japanese mogul arrested for fraud\\n\\nOne of Ja...</td>\n",
              "      <td>business</td>\n",
              "      <td>[japanese, mogul, arrest, fraud, japan, well, ...</td>\n",
              "    </tr>\n",
              "    <tr>\n",
              "      <th>4</th>\n",
              "      <td>Chinese wine tempts Italy's Illva\\n\\nItaly's I...</td>\n",
              "      <td>business</td>\n",
              "      <td>[chinese, wine, tempts, italy, illva, italy, i...</td>\n",
              "    </tr>\n",
              "  </tbody>\n",
              "</table>\n",
              "</div>\n",
              "    <div class=\"colab-df-buttons\">\n",
              "\n",
              "  <div class=\"colab-df-container\">\n",
              "    <button class=\"colab-df-convert\" onclick=\"convertToInteractive('df-0d9e00c3-7a1e-45c1-b446-f91e9c33b7f6')\"\n",
              "            title=\"Convert this dataframe to an interactive table.\"\n",
              "            style=\"display:none;\">\n",
              "\n",
              "  <svg xmlns=\"http://www.w3.org/2000/svg\" height=\"24px\" viewBox=\"0 -960 960 960\">\n",
              "    <path d=\"M120-120v-720h720v720H120Zm60-500h600v-160H180v160Zm220 220h160v-160H400v160Zm0 220h160v-160H400v160ZM180-400h160v-160H180v160Zm440 0h160v-160H620v160ZM180-180h160v-160H180v160Zm440 0h160v-160H620v160Z\"/>\n",
              "  </svg>\n",
              "    </button>\n",
              "\n",
              "  <style>\n",
              "    .colab-df-container {\n",
              "      display:flex;\n",
              "      gap: 12px;\n",
              "    }\n",
              "\n",
              "    .colab-df-convert {\n",
              "      background-color: #E8F0FE;\n",
              "      border: none;\n",
              "      border-radius: 50%;\n",
              "      cursor: pointer;\n",
              "      display: none;\n",
              "      fill: #1967D2;\n",
              "      height: 32px;\n",
              "      padding: 0 0 0 0;\n",
              "      width: 32px;\n",
              "    }\n",
              "\n",
              "    .colab-df-convert:hover {\n",
              "      background-color: #E2EBFA;\n",
              "      box-shadow: 0px 1px 2px rgba(60, 64, 67, 0.3), 0px 1px 3px 1px rgba(60, 64, 67, 0.15);\n",
              "      fill: #174EA6;\n",
              "    }\n",
              "\n",
              "    .colab-df-buttons div {\n",
              "      margin-bottom: 4px;\n",
              "    }\n",
              "\n",
              "    [theme=dark] .colab-df-convert {\n",
              "      background-color: #3B4455;\n",
              "      fill: #D2E3FC;\n",
              "    }\n",
              "\n",
              "    [theme=dark] .colab-df-convert:hover {\n",
              "      background-color: #434B5C;\n",
              "      box-shadow: 0px 1px 3px 1px rgba(0, 0, 0, 0.15);\n",
              "      filter: drop-shadow(0px 1px 2px rgba(0, 0, 0, 0.3));\n",
              "      fill: #FFFFFF;\n",
              "    }\n",
              "  </style>\n",
              "\n",
              "    <script>\n",
              "      const buttonEl =\n",
              "        document.querySelector('#df-0d9e00c3-7a1e-45c1-b446-f91e9c33b7f6 button.colab-df-convert');\n",
              "      buttonEl.style.display =\n",
              "        google.colab.kernel.accessAllowed ? 'block' : 'none';\n",
              "\n",
              "      async function convertToInteractive(key) {\n",
              "        const element = document.querySelector('#df-0d9e00c3-7a1e-45c1-b446-f91e9c33b7f6');\n",
              "        const dataTable =\n",
              "          await google.colab.kernel.invokeFunction('convertToInteractive',\n",
              "                                                    [key], {});\n",
              "        if (!dataTable) return;\n",
              "\n",
              "        const docLinkHtml = 'Like what you see? Visit the ' +\n",
              "          '<a target=\"_blank\" href=https://colab.research.google.com/notebooks/data_table.ipynb>data table notebook</a>'\n",
              "          + ' to learn more about interactive tables.';\n",
              "        element.innerHTML = '';\n",
              "        dataTable['output_type'] = 'display_data';\n",
              "        await google.colab.output.renderOutput(dataTable, element);\n",
              "        const docLink = document.createElement('div');\n",
              "        docLink.innerHTML = docLinkHtml;\n",
              "        element.appendChild(docLink);\n",
              "      }\n",
              "    </script>\n",
              "  </div>\n",
              "\n",
              "\n",
              "<div id=\"df-8b8a01bb-2309-4bee-a116-a6959dc4f5f1\">\n",
              "  <button class=\"colab-df-quickchart\" onclick=\"quickchart('df-8b8a01bb-2309-4bee-a116-a6959dc4f5f1')\"\n",
              "            title=\"Suggest charts\"\n",
              "            style=\"display:none;\">\n",
              "\n",
              "<svg xmlns=\"http://www.w3.org/2000/svg\" height=\"24px\"viewBox=\"0 0 24 24\"\n",
              "     width=\"24px\">\n",
              "    <g>\n",
              "        <path d=\"M19 3H5c-1.1 0-2 .9-2 2v14c0 1.1.9 2 2 2h14c1.1 0 2-.9 2-2V5c0-1.1-.9-2-2-2zM9 17H7v-7h2v7zm4 0h-2V7h2v10zm4 0h-2v-4h2v4z\"/>\n",
              "    </g>\n",
              "</svg>\n",
              "  </button>\n",
              "\n",
              "<style>\n",
              "  .colab-df-quickchart {\n",
              "      --bg-color: #E8F0FE;\n",
              "      --fill-color: #1967D2;\n",
              "      --hover-bg-color: #E2EBFA;\n",
              "      --hover-fill-color: #174EA6;\n",
              "      --disabled-fill-color: #AAA;\n",
              "      --disabled-bg-color: #DDD;\n",
              "  }\n",
              "\n",
              "  [theme=dark] .colab-df-quickchart {\n",
              "      --bg-color: #3B4455;\n",
              "      --fill-color: #D2E3FC;\n",
              "      --hover-bg-color: #434B5C;\n",
              "      --hover-fill-color: #FFFFFF;\n",
              "      --disabled-bg-color: #3B4455;\n",
              "      --disabled-fill-color: #666;\n",
              "  }\n",
              "\n",
              "  .colab-df-quickchart {\n",
              "    background-color: var(--bg-color);\n",
              "    border: none;\n",
              "    border-radius: 50%;\n",
              "    cursor: pointer;\n",
              "    display: none;\n",
              "    fill: var(--fill-color);\n",
              "    height: 32px;\n",
              "    padding: 0;\n",
              "    width: 32px;\n",
              "  }\n",
              "\n",
              "  .colab-df-quickchart:hover {\n",
              "    background-color: var(--hover-bg-color);\n",
              "    box-shadow: 0 1px 2px rgba(60, 64, 67, 0.3), 0 1px 3px 1px rgba(60, 64, 67, 0.15);\n",
              "    fill: var(--button-hover-fill-color);\n",
              "  }\n",
              "\n",
              "  .colab-df-quickchart-complete:disabled,\n",
              "  .colab-df-quickchart-complete:disabled:hover {\n",
              "    background-color: var(--disabled-bg-color);\n",
              "    fill: var(--disabled-fill-color);\n",
              "    box-shadow: none;\n",
              "  }\n",
              "\n",
              "  .colab-df-spinner {\n",
              "    border: 2px solid var(--fill-color);\n",
              "    border-color: transparent;\n",
              "    border-bottom-color: var(--fill-color);\n",
              "    animation:\n",
              "      spin 1s steps(1) infinite;\n",
              "  }\n",
              "\n",
              "  @keyframes spin {\n",
              "    0% {\n",
              "      border-color: transparent;\n",
              "      border-bottom-color: var(--fill-color);\n",
              "      border-left-color: var(--fill-color);\n",
              "    }\n",
              "    20% {\n",
              "      border-color: transparent;\n",
              "      border-left-color: var(--fill-color);\n",
              "      border-top-color: var(--fill-color);\n",
              "    }\n",
              "    30% {\n",
              "      border-color: transparent;\n",
              "      border-left-color: var(--fill-color);\n",
              "      border-top-color: var(--fill-color);\n",
              "      border-right-color: var(--fill-color);\n",
              "    }\n",
              "    40% {\n",
              "      border-color: transparent;\n",
              "      border-right-color: var(--fill-color);\n",
              "      border-top-color: var(--fill-color);\n",
              "    }\n",
              "    60% {\n",
              "      border-color: transparent;\n",
              "      border-right-color: var(--fill-color);\n",
              "    }\n",
              "    80% {\n",
              "      border-color: transparent;\n",
              "      border-right-color: var(--fill-color);\n",
              "      border-bottom-color: var(--fill-color);\n",
              "    }\n",
              "    90% {\n",
              "      border-color: transparent;\n",
              "      border-bottom-color: var(--fill-color);\n",
              "    }\n",
              "  }\n",
              "</style>\n",
              "\n",
              "  <script>\n",
              "    async function quickchart(key) {\n",
              "      const quickchartButtonEl =\n",
              "        document.querySelector('#' + key + ' button');\n",
              "      quickchartButtonEl.disabled = true;  // To prevent multiple clicks.\n",
              "      quickchartButtonEl.classList.add('colab-df-spinner');\n",
              "      try {\n",
              "        const charts = await google.colab.kernel.invokeFunction(\n",
              "            'suggestCharts', [key], {});\n",
              "      } catch (error) {\n",
              "        console.error('Error during call to suggestCharts:', error);\n",
              "      }\n",
              "      quickchartButtonEl.classList.remove('colab-df-spinner');\n",
              "      quickchartButtonEl.classList.add('colab-df-quickchart-complete');\n",
              "    }\n",
              "    (() => {\n",
              "      let quickchartButtonEl =\n",
              "        document.querySelector('#df-8b8a01bb-2309-4bee-a116-a6959dc4f5f1 button');\n",
              "      quickchartButtonEl.style.display =\n",
              "        google.colab.kernel.accessAllowed ? 'block' : 'none';\n",
              "    })();\n",
              "  </script>\n",
              "</div>\n",
              "\n",
              "    </div>\n",
              "  </div>\n"
            ],
            "application/vnd.google.colaboratory.intrinsic+json": {
              "type": "dataframe",
              "variable_name": "df_test",
              "summary": "{\n  \"name\": \"df_test\",\n  \"rows\": 210,\n  \"fields\": [\n    {\n      \"column\": \"text\",\n      \"properties\": {\n        \"dtype\": \"string\",\n        \"num_unique_values\": 209,\n        \"samples\": [\n          \"Fiat mulls Ferrari market listing\\n\\nFerrari could be listed on the stock market as part of an overhaul of Fiat's carmaking operations, the Financial Times has reported.\\n\\nIt said Fiat was set to restructure its business after reaching a $2bn (1.53bn euros; \\u00c2\\u00a31.05bn) settlement with GM about Fiat's ownership. Steps being considered include listing Ferrari and bringing Maserati and Alfa Romeo closer together, it said. Despite strong sales of Alfa Romeo, Fiat's car business is making a loss.\\n\\nUnder the proposals - which the paper said could be announced within days - the iconic sportscar maker could be listed separately on the market. Fiat owns a 56% stake in Ferrari -best known for its dominant Formula One motor racing team - having first bought into the business in 1969. It considered floating Ferrari in 2002 but opted to sell a minority stake to Italian bank Mediobanca for 775m euros ($1bn). That sale valued Ferrari - which owns the Maserati brand - at 2.3bn euros. The price tag would change if Maserati was stripped out. The Financial Times said Fiat may transfer Maserati within its wholly- owned Alfa Romeo division in an effort to exploit commercial synergies. Such a move would help Alfa Romeo and Maserati to share marketing, distribution and research & development costs. Maserati and Ferrari sell about 10,000 cars between them and both companies broke even in 2003.\\n\\nFiat, Italy's largest private sector employer, did not comment on the reported changes. Fiat recently negotiated an end to its alliance with General Motors. The US firm agreed to pay $2bn to exit an agreement under which it could have been liable to buy Fiat outright. Analysts said the reported restructuring was evidence of the greater flexibility which Fiat now had to develop the business.\\n\",\n          \"Web radio takes Spanish rap global\\n\\nSpin the radio dial in the US and you are likely to find plenty of Spanish-language music. But what you will not find is much Spanish-language hip-hop.\\n\\nHip-hop and rap are actually quite popular in the Spanish-speaking world, but local artists are having trouble marketing their work abroad. But now, a US company is bringing rap and hip-hop en espanol to computer users everywhere. Los Caballeros de Plan G are one of Mexico's hottest hip-hop acts. They have a devoted fan base in their native Monterrey. But most Mexican hip-hop fans, not to mention fans in most of the Spanish-speaking world, rarely get a chance to hear the group's tracks on the radio.\\n\\n\\\"You can't really just go on the radio and listen to hip-hop in Spanish... it's just not accessible,\\\" says Manuel Millan, a native of San Diego, California. \\\"It's really hard for the Spanish hip-hop scene to get into mainstream radio. You usually have a very commercialised sound and the groups are not really known around the country or around the world.\\\" Millan and two friends set out to change that - they wanted to make groups like Los Caballeros de Plan G accessible to fans globally.\\n\\nMainstream radio stations were not going to play this kind of music, and starting their own broadcast station was economically impossible. So, Millan and his friends launched a website called latinohiphopradio.com. The name says it all: it is web-based radio, devoted to the hottest Spanish language rap and hip-hop tracks. The site, which is in both in English and Spanish, is meant to be easy to navigate. All the user has to do is download a media player. There are no DJs. It is just music streamed over the net for free. Suddenly, with the help of the website, Los Caballeros de Plan G are producing \\\"export quality\\\" rap.\\n\\nThe web might be just the right medium for Spanish language hip-hop right now. The genre is in what Millan calls its \\\"infant stage\\\". But the production values are improving, and artists such as Argentina's Mustafa Yoda are pushing to make it better and better. Mustafa Yoda is currently one of the hottest tracks on latinohiphopradio.com. \\\"He's considered the Eminem of Argentina, and the Latin American hip-hop scene,\\\" Millan says. \\\"He really hasn't had that much exposure as far as anywhere in the world, but he's definitely the one to look out for as far as becoming the next big thing in the Spanish-speaking world.\\\" Currently, the Chilean group Makisa is also in latinohiphopradio.com's top 10, as is Cuban artist Papo Record. \\\"Every country's got it's own cultural differences and they try to put those into their own songs,\\\" Millan says. Latinohiphopradio.com has been up and running for a couple of months now. The site has listeners from across the Spanish speaking world. Right now, Mexico leads the way, accounting for about 50% of listeners. But web surfers in Spain are logging in as well - about 25% of the web station's traffic comes from there. That is not surprising as many consider Spain to be the leader in Spanish-language rap and hip-hop. Millan says that Spain is actually just behind the United States and France in terms of overall rap and hip-hop production. That might be changing, though, as more and more Latin American artists are finding audiences.\\n\\nBut one Spaniard is still firmly in latinohiphopradio.com's top 10. His name is Tote King and Manuel Millan says that he is the hip-hop leader in Spain. On his track Uno Contra Veinte Emcees, or One Against 20 Emcees, Tote King shows he is well aware of that fact. \\\"It's basically him bragging that he's one of the best emcees in Spain right now,\\\" Millan says. \\\"And it's pretty much true. He has the tightest productions, and his rap flow is impeccable, it's amazing.\\\" Latinohiphopradio.com is hoping to expand in the coming year. Millan says they want to include more music and more news from the world of Spanish language hip-hop and rap.\\n\\nClark Boyd is technology correspondent for The World, a BBC World Service and WGBH-Boston co-production.\\n\",\n          \"Election 'could be terror target'\\n\\nTerrorists might try to target the UK in the run-up to the election, London's most senior police officer has said.\\n\\nSir Ian Blair said terror groups would remember the effect of the Madrid bomb on Spain's general election last year. Other potential targets were the royal wedding and the UK's presidency of the European Union and G8, he said. He refused to say if there was specific information about the risk of a pre-poll attack. No 10 was similarly cautious but said the threat was real.\\n\\nThe comments come after Tony Blair defended his controversial anti-terror proposals, warning that it would be wrong to wait for an attack before acting. Sir Ian told a meeting of the Metropolitan Police Authority it would be \\\"unwise\\\" to speculate about whether there was specific information about risks of a pre-election attack. But he said: \\\"Terrorists have long memories. They understand what happened in Madrid and know what the impact of that was on the Spanish electorate.\\n\\n\\\"This year we are responsible for the EU presidency, presidency of the G8, a royal wedding and a general election. \\\"There are obvious and enormous targets which we have to deal with.\\\" Sir Ian said the debate over anti-terror plans was one for politicians, not the police, who would enforce any new powers.\\n\\nHome Secretary Charles Clarke has also warned that a Madrid-style pre-election bombing could happen in the UK too. Asked about Sir Ian's comments, the prime minister's official spokesman said: \\\"We believe the threat is real.\\\" The spokesman declined to comment on whether the security services had received specific intelligence relating to a possible attack during the election campaign. He said No 10 did not disclose any security advice they received. Earlier, writing in the Daily Telegraph, the prime minister conceded that plans to detain suspects under house arrest without trial were \\\"difficult issues for any government\\\". The Commons has approved the measures despite considerable opposition, with the government's majority more than halved as 32 Labour rebels joined Tory and Lib Dem opposition. But Mr Blair insisted: \\\"There is no greater civil liberty than to live free from terrorist attack.\\\"\\n\\nTory leader Michael Howard has accused Mr Blair of steamrolling the house arrest plans and of \\\"using national security for political point scoring\\\". Liberal Democrat leader Charles Kennedy says that the plan is a further example of Labour's \\\"authoritarian\\\" response to crises. The Prevention of Terrorism Bill proposes \\\"control orders\\\", which as well as house arrest could impose curfews, tagging or bans on telephone and internet use. They would replace current powers to detain foreign terror suspects without trial, which the law lords have ruled against. But critics are concerned that it would be the home secretary and not judges who decided to impose control orders. The plans face further Commons scrutiny on Monday before passing to the Lords.\\n\"\n        ],\n        \"semantic_type\": \"\",\n        \"description\": \"\"\n      }\n    },\n    {\n      \"column\": \"category\",\n      \"properties\": {\n        \"dtype\": \"category\",\n        \"num_unique_values\": 5,\n        \"samples\": [\n          \"entertainment\",\n          \"tech\",\n          \"politics\"\n        ],\n        \"semantic_type\": \"\",\n        \"description\": \"\"\n      }\n    },\n    {\n      \"column\": \"tokens\",\n      \"properties\": {\n        \"dtype\": \"object\",\n        \"semantic_type\": \"\",\n        \"description\": \"\"\n      }\n    }\n  ]\n}"
            }
          },
          "metadata": {},
          "execution_count": 6
        }
      ]
    },
    {
      "cell_type": "markdown",
      "source": [
        "# BERT (supervisado)"
      ],
      "metadata": {
        "id": "bpWeU3iC0aGp"
      }
    },
    {
      "cell_type": "code",
      "source": [
        "# --- Modelo Supervisado (Clasificación con BERT) ---\n",
        "\n",
        "class NewsDataset(Dataset):\n",
        "    def __init__(self, texts, labels, tokenizer, max_len=512):\n",
        "        self.texts = texts\n",
        "        self.labels = labels\n",
        "        self.tokenizer = tokenizer\n",
        "        self.max_len = max_len\n",
        "\n",
        "    def __len__(self):\n",
        "        return len(self.texts)\n",
        "\n",
        "    def __getitem__(self, idx):\n",
        "        encoding = self.tokenizer(\n",
        "            self.texts[idx],\n",
        "            padding='max_length',\n",
        "            truncation=True,\n",
        "            max_length=self.max_len,\n",
        "            return_tensors='pt'\n",
        "        )\n",
        "        return {\"input_ids\": encoding[\"input_ids\"].squeeze(),\n",
        "                \"attention_mask\": encoding[\"attention_mask\"].squeeze(),\n",
        "                \"labels\": torch.tensor(self.labels[idx])}\n",
        "\n",
        "# Tokenización\n",
        "tokenizer = BertTokenizer.from_pretrained(\"bert-base-uncased\", use_auth_token=\"b31fe5c93a2fb4a174be367155f97dfcc1613313\")\n",
        "train_dataset = NewsDataset(df_train[\"text\"].tolist(), df_train[\"category\"].astype('category').cat.codes.tolist(), tokenizer)\n",
        "test_dataset = NewsDataset(df_test[\"text\"].tolist(), df_test[\"category\"].astype('category').cat.codes.tolist(), tokenizer)"
      ],
      "metadata": {
        "colab": {
          "base_uri": "https://localhost:8080/"
        },
        "id": "jKp5Uv1y0ZMs",
        "outputId": "1b099462-c8e0-4acd-c5f7-b823c30db48f"
      },
      "execution_count": 7,
      "outputs": [
        {
          "output_type": "stream",
          "name": "stderr",
          "text": [
            "/usr/local/lib/python3.11/dist-packages/transformers/tokenization_utils_base.py:1899: FutureWarning: The `use_auth_token` argument is deprecated and will be removed in v5 of Transformers. Please use `token` instead.\n",
            "  warnings.warn(\n"
          ]
        }
      ]
    },
    {
      "cell_type": "code",
      "source": [
        "# Definir métricas\n",
        "def compute_metrics(eval_pred):\n",
        "    metric_accuracy = load_metric(\"accuracy\")\n",
        "    metric_f1 = load_metric(\"f1\")\n",
        "    metric_precision = load_metric(\"precision\")\n",
        "    metric_recall = load_metric(\"recall\")\n",
        "\n",
        "    logits, labels = eval_pred\n",
        "    predictions = np.argmax(logits, axis=-1)\n",
        "\n",
        "    return {\n",
        "        \"accuracy\": metric_accuracy.compute(predictions=predictions, references=labels)[\"accuracy\"],\n",
        "        \"f1\": metric_f1.compute(predictions=predictions, references=labels, average=\"weighted\")[\"f1\"],\n",
        "        \"precision\": metric_precision.compute(predictions=predictions, references=labels, average=\"weighted\")[\"precision\"],\n",
        "        \"recall\": metric_recall.compute(predictions=predictions, references=labels, average=\"weighted\")[\"recall\"]\n",
        "    }"
      ],
      "metadata": {
        "id": "PbMFWuXeAVGj"
      },
      "execution_count": 8,
      "outputs": []
    },
    {
      "cell_type": "code",
      "source": [
        "# Modelo BERT\n",
        "model = BertForSequenceClassification.from_pretrained(\"bert-base-uncased\", num_labels=5, use_auth_token=\"b31fe5c93a2fb4a174be367155f97dfcc1613313\")\n",
        "training_args = TrainingArguments(output_dir=\"./results\", num_train_epochs=3, per_device_train_batch_size=8, evaluation_strategy=\"epoch\")\n",
        "trainer = Trainer(model=model, args=training_args, train_dataset=train_dataset, eval_dataset=test_dataset)\n",
        "trainer.train()"
      ],
      "metadata": {
        "colab": {
          "base_uri": "https://localhost:8080/",
          "height": 476
        },
        "id": "gC07kT4M0WvF",
        "outputId": "f1ae097d-78da-469c-b54f-522188585b89"
      },
      "execution_count": 9,
      "outputs": [
        {
          "output_type": "stream",
          "name": "stderr",
          "text": [
            "/usr/local/lib/python3.11/dist-packages/transformers/modeling_utils.py:3437: FutureWarning: The `use_auth_token` argument is deprecated and will be removed in v5 of Transformers. Please use `token` instead.\n",
            "  warnings.warn(\n",
            "Some weights of BertForSequenceClassification were not initialized from the model checkpoint at bert-base-uncased and are newly initialized: ['classifier.bias', 'classifier.weight']\n",
            "You should probably TRAIN this model on a down-stream task to be able to use it for predictions and inference.\n",
            "/usr/local/lib/python3.11/dist-packages/transformers/training_args.py:1575: FutureWarning: `evaluation_strategy` is deprecated and will be removed in version 4.46 of 🤗 Transformers. Use `eval_strategy` instead\n",
            "  warnings.warn(\n",
            "\u001b[34m\u001b[1mwandb\u001b[0m: \u001b[33mWARNING\u001b[0m The `run_name` is currently set to the same value as `TrainingArguments.output_dir`. If this was not intended, please specify a different run name by setting the `TrainingArguments.run_name` parameter.\n",
            "\u001b[34m\u001b[1mwandb\u001b[0m: Using wandb-core as the SDK backend.  Please refer to https://wandb.me/wandb-core for more information.\n",
            "\u001b[34m\u001b[1mwandb\u001b[0m: Currently logged in as: \u001b[33mcdf51342\u001b[0m (\u001b[33mcdf51342-universidad-carlos-iii-de-madrid\u001b[0m) to \u001b[32mhttps://api.wandb.ai\u001b[0m. Use \u001b[1m`wandb login --relogin`\u001b[0m to force relogin\n"
          ]
        },
        {
          "output_type": "display_data",
          "data": {
            "text/plain": [
              "<IPython.core.display.HTML object>"
            ],
            "text/html": [
              "Tracking run with wandb version 0.19.7"
            ]
          },
          "metadata": {}
        },
        {
          "output_type": "display_data",
          "data": {
            "text/plain": [
              "<IPython.core.display.HTML object>"
            ],
            "text/html": [
              "Run data is saved locally in <code>/content/wandb/run-20250310_170631-49hi2a3p</code>"
            ]
          },
          "metadata": {}
        },
        {
          "output_type": "display_data",
          "data": {
            "text/plain": [
              "<IPython.core.display.HTML object>"
            ],
            "text/html": [
              "Syncing run <strong><a href='https://wandb.ai/cdf51342-universidad-carlos-iii-de-madrid/huggingface/runs/49hi2a3p' target=\"_blank\">./results</a></strong> to <a href='https://wandb.ai/cdf51342-universidad-carlos-iii-de-madrid/huggingface' target=\"_blank\">Weights & Biases</a> (<a href='https://wandb.me/developer-guide' target=\"_blank\">docs</a>)<br>"
            ]
          },
          "metadata": {}
        },
        {
          "output_type": "display_data",
          "data": {
            "text/plain": [
              "<IPython.core.display.HTML object>"
            ],
            "text/html": [
              " View project at <a href='https://wandb.ai/cdf51342-universidad-carlos-iii-de-madrid/huggingface' target=\"_blank\">https://wandb.ai/cdf51342-universidad-carlos-iii-de-madrid/huggingface</a>"
            ]
          },
          "metadata": {}
        },
        {
          "output_type": "display_data",
          "data": {
            "text/plain": [
              "<IPython.core.display.HTML object>"
            ],
            "text/html": [
              " View run at <a href='https://wandb.ai/cdf51342-universidad-carlos-iii-de-madrid/huggingface/runs/49hi2a3p' target=\"_blank\">https://wandb.ai/cdf51342-universidad-carlos-iii-de-madrid/huggingface/runs/49hi2a3p</a>"
            ]
          },
          "metadata": {}
        },
        {
          "output_type": "display_data",
          "data": {
            "text/plain": [
              "<IPython.core.display.HTML object>"
            ],
            "text/html": [
              "\n",
              "    <div>\n",
              "      \n",
              "      <progress value='756' max='756' style='width:300px; height:20px; vertical-align: middle;'></progress>\n",
              "      [756/756 10:48, Epoch 3/3]\n",
              "    </div>\n",
              "    <table border=\"1\" class=\"dataframe\">\n",
              "  <thead>\n",
              " <tr style=\"text-align: left;\">\n",
              "      <th>Epoch</th>\n",
              "      <th>Training Loss</th>\n",
              "      <th>Validation Loss</th>\n",
              "    </tr>\n",
              "  </thead>\n",
              "  <tbody>\n",
              "    <tr>\n",
              "      <td>1</td>\n",
              "      <td>No log</td>\n",
              "      <td>0.044779</td>\n",
              "    </tr>\n",
              "    <tr>\n",
              "      <td>2</td>\n",
              "      <td>0.156200</td>\n",
              "      <td>0.114752</td>\n",
              "    </tr>\n",
              "    <tr>\n",
              "      <td>3</td>\n",
              "      <td>0.156200</td>\n",
              "      <td>0.029236</td>\n",
              "    </tr>\n",
              "  </tbody>\n",
              "</table><p>"
            ]
          },
          "metadata": {}
        },
        {
          "output_type": "execute_result",
          "data": {
            "text/plain": [
              "TrainOutput(global_step=756, training_loss=0.11318251254066589, metrics={'train_runtime': 653.9517, 'train_samples_per_second': 9.244, 'train_steps_per_second': 1.156, 'total_flos': 1590549171194880.0, 'train_loss': 0.11318251254066589, 'epoch': 3.0})"
            ]
          },
          "metadata": {},
          "execution_count": 9
        }
      ]
    },
    {
      "cell_type": "code",
      "source": [
        "# Evaluación del modelo en test\n",
        "results = trainer.evaluate()\n",
        "print(\"Resultados en conjunto de test:\", results)"
      ],
      "metadata": {
        "colab": {
          "base_uri": "https://localhost:8080/",
          "height": 75
        },
        "id": "2GuWw5WG7RUk",
        "outputId": "dd03c374-7585-4392-ea3a-b391f09bfde7"
      },
      "execution_count": 10,
      "outputs": [
        {
          "output_type": "display_data",
          "data": {
            "text/plain": [
              "<IPython.core.display.HTML object>"
            ],
            "text/html": [
              "\n",
              "    <div>\n",
              "      \n",
              "      <progress value='27' max='27' style='width:300px; height:20px; vertical-align: middle;'></progress>\n",
              "      [27/27 00:06]\n",
              "    </div>\n",
              "    "
            ]
          },
          "metadata": {}
        },
        {
          "output_type": "stream",
          "name": "stdout",
          "text": [
            "Resultados en conjunto de test: {'eval_loss': 0.02923557721078396, 'eval_runtime': 6.9814, 'eval_samples_per_second': 30.08, 'eval_steps_per_second': 3.867, 'epoch': 3.0}\n"
          ]
        }
      ]
    },
    {
      "cell_type": "code",
      "source": [
        "# Definir el directorio donde se guardará el modelo\n",
        "output_dir = \"./models/modelBERT\"\n",
        "\n",
        "# Guardar el modelo y el tokenizador\n",
        "model.save_pretrained(output_dir)\n",
        "tokenizer.save_pretrained(output_dir)\n",
        "\n",
        "print(f\"Modelo guardado en {output_dir}\")"
      ],
      "metadata": {
        "colab": {
          "base_uri": "https://localhost:8080/"
        },
        "id": "CtICWXB9BTAc",
        "outputId": "3698d553-dd53-4baa-e1ab-59e32e3ef766"
      },
      "execution_count": 12,
      "outputs": [
        {
          "output_type": "stream",
          "name": "stdout",
          "text": [
            "Modelo guardado en ./models/modelBERT\n"
          ]
        }
      ]
    },
    {
      "cell_type": "markdown",
      "source": [
        "# LDA (no supervisado)"
      ],
      "metadata": {
        "id": "4dyTIvJI0ciC"
      }
    },
    {
      "cell_type": "code",
      "source": [
        "# --- Modelado de Temas (LDA) ---\n",
        "\n",
        "# Crear diccionario y corpus para LDA\n",
        "dictionary = corpora.Dictionary(df_train[\"tokens\"])\n",
        "corpus = [dictionary.doc2bow(text) for text in df_train[\"tokens\"]]\n",
        "lda_model = gensim.models.LdaModel(corpus=corpus, id2word=dictionary, num_topics=5, passes=10)\n",
        "\n",
        "# Mostrar los temas\n",
        "topics = lda_model.print_topics(num_words=10)\n",
        "for topic in topics:\n",
        "    print(topic)"
      ],
      "metadata": {
        "colab": {
          "base_uri": "https://localhost:8080/"
        },
        "id": "5fo1dEKc0UzA",
        "outputId": "f0c152e4-1056-48f5-bcad-0bd62421718d"
      },
      "execution_count": 11,
      "outputs": [
        {
          "output_type": "stream",
          "name": "stdout",
          "text": [
            "(0, '0.021*\"chip\" + 0.019*\"say\" + 0.015*\"device\" + 0.015*\"cell\" + 0.014*\"drive\" + 0.012*\"year\" + 0.011*\"datum\" + 0.010*\"find\" + 0.010*\"hard\" + 0.010*\"processor\"')\n",
            "(1, '0.018*\"say\" + 0.007*\"year\" + 0.007*\"mr\" + 0.004*\"new\" + 0.004*\"time\" + 0.004*\"good\" + 0.004*\"win\" + 0.003*\"m\" + 0.003*\"people\" + 0.003*\"government\"')\n",
            "(2, '0.016*\"gadget\" + 0.013*\"game\" + 0.012*\"device\" + 0.011*\"design\" + 0.010*\"look\" + 0.009*\"video\" + 0.008*\"player\" + 0.008*\"sale\" + 0.008*\"store\" + 0.008*\"say\"')\n",
            "(3, '0.024*\"say\" + 0.013*\"virus\" + 0.011*\"file\" + 0.009*\"system\" + 0.009*\"mobile\" + 0.008*\"new\" + 0.007*\"site\" + 0.007*\"people\" + 0.007*\"network\" + 0.007*\"mr\"')\n",
            "(4, '0.025*\"say\" + 0.020*\"mobile\" + 0.016*\"phone\" + 0.015*\"people\" + 0.013*\"control\" + 0.011*\"bill\" + 0.011*\"sigarchi\" + 0.010*\"use\" + 0.010*\"fix\" + 0.010*\"brain\"')\n"
          ]
        }
      ]
    },
    {
      "cell_type": "markdown",
      "source": [
        "# Almacenamiento de datos"
      ],
      "metadata": {
        "id": "gC95q0kLAjbv"
      }
    },
    {
      "cell_type": "code",
      "source": [
        "df_train.to_csv('data/results/training_dataset.csv')\n",
        "df_test.to_csv('data/results/testing_dataset.csv')"
      ],
      "metadata": {
        "id": "CIpaxP0VAlEC"
      },
      "execution_count": 13,
      "outputs": []
    }
  ]
}